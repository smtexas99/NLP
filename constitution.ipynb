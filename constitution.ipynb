{
 "cells": [
  {
   "cell_type": "markdown",
   "metadata": {},
   "source": [
    "# US Constitution: NLP using NLTK"
   ]
  },
  {
   "cell_type": "markdown",
   "metadata": {},
   "source": [
    "Source: The U.S. National Archives and Records Administration\n",
    "<br>\n",
    "https://www.archives.gov/founding-docs/constitution-transcript\n",
    "<br>\n",
    "<br>If you publish work that uses NLTK, please cite the NLTK book as follows:<br>\n",
    "Bird, Steven, Edward Loper and Ewan Klein (2009), Natural Language Processing with Python. O’Reilly Media Inc.\n",
    "        "
   ]
  },
  {
   "cell_type": "markdown",
   "metadata": {},
   "source": [
    "Import Libraries"
   ]
  },
  {
   "cell_type": "code",
   "execution_count": 1,
   "metadata": {},
   "outputs": [
    {
     "name": "stderr",
     "output_type": "stream",
     "text": [
      "C:\\ProgramData\\Anaconda3\\envs\\tf-gpu+base_test\\lib\\site-packages\\sklearn\\utils\\deprecation.py:144: FutureWarning: The sklearn.feature_extraction.stop_words module is  deprecated in version 0.22 and will be removed in version 0.24. The corresponding classes / functions should instead be imported from sklearn.feature_extraction.text. Anything that cannot be imported from sklearn.feature_extraction.text is now part of the private API.\n",
      "  warnings.warn(message, FutureWarning)\n"
     ]
    }
   ],
   "source": [
    "from datetime import date\n",
    "from wordcloud import STOPWORDS\n",
    "import pandas as pd\n",
    "import numpy as np\n",
    "import datetime as dt\n",
    "import matplotlib.pyplot as plt\n",
    "from matplotlib import style\n",
    "from matplotlib.pylab import rcParams\n",
    "import collections\n",
    "from collections import Counter\n",
    "import nltk \n",
    "from nltk import pos_tag_sents\n",
    "from nltk.corpus import reuters\n",
    "from nltk.tokenize import sent_tokenize, word_tokenize\n",
    "from textblob import TextBlob\n",
    "from sklearn.feature_extraction.stop_words import ENGLISH_STOP_WORDS\n"
   ]
  },
  {
   "cell_type": "markdown",
   "metadata": {},
   "source": [
    "Stopwords<br>\n",
    "For additional info on please visit: https://en.wikipedia.org/wiki/Stop_words"
   ]
  },
  {
   "cell_type": "code",
   "execution_count": 2,
   "metadata": {},
   "outputs": [],
   "source": [
    "english_stopwords = STOPWORDS | ENGLISH_STOP_WORDS"
   ]
  },
  {
   "cell_type": "markdown",
   "metadata": {},
   "source": [
    "Load the text of the U.S. Constituton"
   ]
  },
  {
   "cell_type": "code",
   "execution_count": 3,
   "metadata": {},
   "outputs": [],
   "source": [
    "f=open('us_constitution.txt','r')\n",
    "raw=f.read()"
   ]
  },
  {
   "cell_type": "markdown",
   "metadata": {},
   "source": [
    "Tokenize: <br>\n",
    "<i>Tokenization</i> means splitting a text into meaningful parts called tokens."
   ]
  },
  {
   "cell_type": "code",
   "execution_count": 4,
   "metadata": {},
   "outputs": [],
   "source": [
    "tokens = word_tokenize(raw)"
   ]
  },
  {
   "cell_type": "code",
   "execution_count": 5,
   "metadata": {},
   "outputs": [],
   "source": [
    "text = nltk.Text(tokens)"
   ]
  },
  {
   "cell_type": "markdown",
   "metadata": {},
   "source": [
    "Parts of Speech<br>\n",
    "This breaks down the sentence into Nouns, Verbs, Pronouns etc."
   ]
  },
  {
   "cell_type": "code",
   "execution_count": 6,
   "metadata": {},
   "outputs": [
    {
     "name": "stdout",
     "output_type": "stream",
     "text": [
      "('United', 'NNP')\n",
      "('National', 'NNP')\n",
      "('United', 'NNP')\n",
      "('Union', 'NNP')\n",
      "('United', 'NNP')\n",
      "('America', 'NNP')\n",
      "('Congress', 'NNP')\n",
      "('United', 'NNP')\n",
      "('Senate', 'NNP')\n",
      "('House', 'NNP')\n",
      "('House', 'NNP')\n",
      "('United', 'NNP')\n",
      "('Union', 'NNP')\n",
      "('Number', 'NNP')\n",
      "('Service', 'NNP')\n",
      "('Congress', 'NNP')\n",
      "('United', 'NNP')\n",
      "('Number', 'NNP')\n",
      "('New', 'NNP')\n",
      "('Hampshire', 'NNP')\n",
      "('Massachusetts', 'NNP')\n",
      "('New', 'NNP')\n",
      "('Jersey', 'NNP')\n",
      "('Virginia', 'NNP')\n",
      "('Carolina', 'NNP')\n",
      "('South', 'NNP')\n",
      "('Carolina', 'NNP')\n",
      "('House', 'NNP')\n",
      "('Senate', 'NNP')\n",
      "('United', 'NNP')\n",
      "('United', 'NNP')\n",
      "('Vice', 'NNP')\n",
      "('President', 'NNP')\n",
      "('United', 'NNP')\n",
      "('President', 'NNP')\n",
      "('Senate', 'NNP')\n",
      "('Senate', 'NNP')\n",
      "('President', 'NNP')\n",
      "('Vice', 'NNP')\n",
      "('President', 'NNP')\n",
      "('President', 'NNP')\n",
      "('United', 'NNP')\n",
      "('Senate', 'NNP')\n",
      "('President', 'NNP')\n",
      "('United', 'NNP')\n",
      "('Trust', 'NNP')\n",
      "('United', 'NNP')\n",
      "('Party', 'NNP')\n",
      "('Congress', 'NNP')\n",
      "('Congress', 'NNP')\n",
      "('Monday', 'NNP')\n",
      "('December', 'NNP')\n",
      "('Day', 'NNP')\n",
      "('House', 'NNP')\n",
      "('Judge', 'NNP')\n",
      "('Number', 'NNP')\n",
      "('House', 'NNP')\n",
      "('House', 'NNP')\n",
      "('Member', 'NNP')\n",
      "('House', 'NNP')\n",
      "('Journal', 'NNP')\n",
      "('House', 'NNP')\n",
      "('Journal', 'NNP')\n",
      "('House', 'NNP')\n",
      "('Congress', 'NNP')\n",
      "('Treasury', 'NNP')\n",
      "('United', 'NNP')\n",
      "('House', 'NNP')\n",
      "('United', 'NNP')\n",
      "('United', 'NNP')\n",
      "('Member', 'NNP')\n",
      "('House', 'NNP')\n",
      "('House', 'NNP')\n",
      "('Senate', 'NNP')\n",
      "('House', 'NNP')\n",
      "('Senate', 'NNP')\n",
      "('President', 'NNP')\n",
      "('United', 'NNP')\n",
      "('House', 'NNP')\n",
      "('Journal', 'NNP')\n",
      "('House', 'NNP')\n",
      "('House', 'NNP')\n",
      "('House', 'NNP')\n",
      "('Journal', 'NNP')\n",
      "('House', 'NNP')\n",
      "('President', 'NNP')\n",
      "('Congress', 'NNP')\n",
      "('Senate', 'NNP')\n",
      "('House', 'NNP')\n",
      "('President', 'NNP')\n",
      "('United', 'NNP')\n",
      "('Senate', 'NNP')\n",
      "('House', 'NNP')\n",
      "('Congress', 'NNP')\n",
      "('United', 'NNP')\n",
      "('United', 'NNP')\n",
      "('United', 'NNP')\n",
      "('Commerce', 'NNP')\n",
      "('United', 'NNP')\n",
      "('United', 'NNP')\n",
      "('Court', 'NNP')\n",
      "('War', 'NNP')\n",
      "('Navy', 'NNP')\n",
      "('Union', 'NNP')\n",
      "('Service', 'NNP')\n",
      "('United', 'NNP')\n",
      "('Congress', 'NNP')\n",
      "('District', 'NNP')\n",
      "('Congress', 'NNP')\n",
      "('United', 'NNP')\n",
      "('United', 'NNP')\n",
      "('Department', 'NNP')\n",
      "('Congress', 'NNP')\n",
      "('Commerce', 'NNP')\n",
      "('Treasury', 'NNP')\n",
      "('United', 'NNP')\n",
      "('Trust', 'NNP')\n",
      "('Congress', 'NNP')\n",
      "('Congress', 'NNP')\n",
      "('Treasury', 'NNP')\n",
      "('United', 'NNP')\n",
      "('Congress', 'NNP')\n",
      "('Congress', 'NNP')\n",
      "('War', 'NNP')\n",
      "('War', 'NNP')\n",
      "('President', 'NNP')\n",
      "('United', 'NNP')\n",
      "('America', 'NNP')\n",
      "('Vice', 'NNP')\n",
      "('President', 'NNP')\n",
      "('Number', 'NNP')\n",
      "('Number', 'NNP')\n",
      "('Congress', 'NNP')\n",
      "('Trust', 'NNP')\n",
      "('United', 'NNP')\n",
      "('Number', 'NNP')\n",
      "('United', 'NNP')\n",
      "('President', 'NNP')\n",
      "('Senate', 'NNP')\n",
      "('President', 'NNP')\n",
      "('Senate', 'NNP')\n",
      "('Senate', 'NNP')\n",
      "('House', 'NNP')\n",
      "('Number', 'NNP')\n",
      "('President', 'NNP')\n",
      "('Number', 'NNP')\n",
      "('Number', 'NNP')\n",
      "('Number', 'NNP')\n",
      "('House', 'NNP')\n",
      "('President', 'NNP')\n",
      "('House', 'NNP')\n",
      "('President', 'NNP')\n",
      "('President', 'NNP')\n",
      "('Member', 'NNP')\n",
      "('President', 'NNP')\n",
      "('Number', 'NNP')\n",
      "('Vice', 'NNP')\n",
      "('President', 'NNP')\n",
      "('Senate', 'NNP')\n",
      "('Vice', 'NNP')\n",
      "('President', 'NNP')\n",
      "('Congress', 'NNP')\n",
      "('Day', 'NNP')\n",
      "('Day', 'NNP')\n",
      "('United', 'NNP')\n",
      "('United', 'NNP')\n",
      "('President', 'NNP')\n",
      "('United', 'NNP')\n",
      "('President', 'NNP')\n",
      "('Vice', 'NNP')\n",
      "('President', 'NNP')\n",
      "('Congress', 'NNP')\n",
      "('President', 'NNP')\n",
      "('Vice', 'NNP')\n",
      "('President', 'NNP')\n",
      "('President', 'NNP')\n",
      "('President', 'NNP')\n",
      "('President', 'NNP')\n",
      "('United', 'NNP')\n",
      "('President', 'NNP')\n",
      "('United', 'NNP')\n",
      "('United', 'NNP')\n",
      "('President', 'NNP')\n",
      "('Navy', 'NNP')\n",
      "('United', 'NNP')\n",
      "('Service', 'NNP')\n",
      "('United', 'NNP')\n",
      "('United', 'NNP')\n",
      "('Senate', 'NNP')\n",
      "('Senate', 'NNP')\n",
      "('Court', 'NNP')\n",
      "('United', 'NNP')\n",
      "('Congress', 'NNP')\n",
      "('President', 'NNP')\n",
      "('President', 'NNP')\n",
      "('Senate', 'NNP')\n",
      "('Congress', 'NNP')\n",
      "('Union', 'NNP')\n",
      "('Commission', 'NNP')\n",
      "('United', 'NNP')\n",
      "('President', 'NNP')\n",
      "('Vice', 'NNP')\n",
      "('President', 'NNP')\n",
      "('United', 'NNP')\n",
      "('United', 'NNP')\n",
      "('Court', 'NNP')\n",
      "('Congress', 'NNP')\n",
      "('United', 'NNP')\n",
      "('United', 'NNP')\n",
      "('Party', 'NNP')\n",
      "('Party', 'NNP')\n",
      "('Court', 'NNP')\n",
      "('Court', 'NNP')\n",
      "('Congress', 'NNP')\n",
      "('Congress', 'NNP')\n",
      "('United', 'NNP')\n",
      "('War', 'NNP')\n",
      "('Act', 'NNP')\n",
      "('Court', 'NNP')\n",
      "('Congress', 'NNP')\n",
      "('Congress', 'NNP')\n",
      "('Service', 'NNP')\n",
      "('Service', 'NNP')\n",
      "('Party', 'NNP')\n",
      "('Service', 'NNP')\n",
      "('New', 'NNP')\n",
      "('Congress', 'NNP')\n",
      "('Union', 'NNP')\n",
      "('Congress', 'NNP')\n",
      "('Congress', 'NNP')\n",
      "('United', 'NNP')\n",
      "('United', 'NNP')\n",
      "('United', 'NNP')\n",
      "('Union', 'NNP')\n",
      "('V', 'NNP')\n",
      "('Congress', 'NNP')\n",
      "('Congress', 'NNP')\n",
      "('Senate', 'NNP')\n",
      "('United', 'NNP')\n",
      "('United', 'NNP')\n",
      "('United', 'NNP')\n",
      "('United', 'NNP')\n",
      "('Trust', 'NNP')\n",
      "('United', 'NNP')\n",
      "('William', 'NNP')\n",
      "('Secretary', 'NNP')\n",
      "('Day', 'NNP')\n",
      "('September', 'NNP')\n",
      "('United', 'NNP')\n",
      "('America', 'NNP')\n",
      "('Washington', 'NNP')\n",
      "('Virginia', 'NNP')\n"
     ]
    }
   ],
   "source": [
    "data = []\n",
    "for i in text:\n",
    "    data = data + nltk.pos_tag(nltk.word_tokenize(i))\n",
    " \n",
    "for word in data: \n",
    "    if 'NNP' in word: \n",
    "        print(word)"
   ]
  },
  {
   "cell_type": "code",
   "execution_count": 7,
   "metadata": {},
   "outputs": [],
   "source": [
    "for word in data: \n",
    "    if 'RP' in word: \n",
    "        print(word)"
   ]
  },
  {
   "cell_type": "markdown",
   "metadata": {},
   "source": [
    "<img src ='nltk-speech-codes.png'><br>\n",
    "Source: https://pythonspot.com/"
   ]
  },
  {
   "cell_type": "code",
   "execution_count": 8,
   "metadata": {},
   "outputs": [
    {
     "data": {
      "text/plain": [
       "tuple"
      ]
     },
     "execution_count": 8,
     "metadata": {},
     "output_type": "execute_result"
    }
   ],
   "source": [
    "type(word)"
   ]
  },
  {
   "cell_type": "code",
   "execution_count": 9,
   "metadata": {},
   "outputs": [
    {
     "name": "stdout",
     "output_type": "stream",
     "text": [
      "['United', 'National', 'United', 'Union', 'United', 'America', 'Congress', 'United', 'Senate', 'House', 'House', 'United', 'Union', 'Number', 'Service', 'Congress', 'United', 'Number', 'New', 'Hampshire', 'Massachusetts', 'New', 'Jersey', 'Virginia', 'Carolina', 'South', 'Carolina', 'House', 'Senate', 'United', 'United', 'Vice', 'President', 'United', 'President', 'Senate', 'Senate', 'President', 'Vice', 'President', 'President', 'United', 'Senate', 'President', 'United', 'Trust', 'United', 'Party', 'Congress', 'Congress', 'Monday', 'December', 'Day', 'House', 'Judge', 'Number', 'House', 'House', 'Member', 'House', 'Journal', 'House', 'Journal', 'House', 'Congress', 'Treasury', 'United', 'House', 'United', 'United', 'Member', 'House', 'House', 'Senate', 'House', 'Senate', 'President', 'United', 'House', 'Journal', 'House', 'House', 'House', 'Journal', 'House', 'President', 'Congress', 'Senate', 'House', 'President', 'United', 'Senate', 'House', 'Congress', 'United', 'United', 'United', 'Commerce', 'United', 'United', 'Court', 'War', 'Navy', 'Union', 'Service', 'United', 'Congress', 'District', 'Congress', 'United', 'United', 'Department', 'Congress', 'Commerce', 'Treasury', 'United', 'Trust', 'Congress', 'Congress', 'Treasury', 'United', 'Congress', 'Congress', 'War', 'War', 'President', 'United', 'America', 'Vice', 'President', 'Number', 'Number', 'Congress', 'Trust', 'United', 'Number', 'United', 'President', 'Senate', 'President', 'Senate', 'Senate', 'House', 'Number', 'President', 'Number', 'Number', 'Number', 'House', 'President', 'House', 'President', 'President', 'Member', 'President', 'Number', 'Vice', 'President', 'Senate', 'Vice', 'President', 'Congress', 'Day', 'Day', 'United', 'United', 'President', 'United', 'President', 'Vice', 'President', 'Congress', 'President', 'Vice', 'President', 'President', 'President', 'President', 'United', 'President', 'United', 'United', 'President', 'Navy', 'United', 'Service', 'United', 'United', 'Senate', 'Senate', 'Court', 'United', 'Congress', 'President', 'President', 'Senate', 'Congress', 'Union', 'Commission', 'United', 'President', 'Vice', 'President', 'United', 'United', 'Court', 'Congress', 'United', 'United', 'Party', 'Party', 'Court', 'Court', 'Congress', 'Congress', 'United', 'War', 'Act', 'Court', 'Congress', 'Congress', 'Service', 'Service', 'Party', 'Service', 'New', 'Congress', 'Union', 'Congress', 'Congress', 'United', 'United', 'United', 'Union', 'V', 'Congress', 'Congress', 'Senate', 'United', 'United', 'United', 'United', 'Trust', 'United', 'William', 'Secretary', 'Day', 'September', 'United', 'America', 'Washington', 'Virginia']\n"
     ]
    }
   ],
   "source": [
    "nnp_wordlist = []\n",
    "for word in data: \n",
    "    if 'NNP' in word: \n",
    "        nnp_wordlist.append(word[0])\n",
    "print(nnp_wordlist)"
   ]
  },
  {
   "cell_type": "code",
   "execution_count": 10,
   "metadata": {},
   "outputs": [
    {
     "data": {
      "text/plain": [
       "list"
      ]
     },
     "execution_count": 10,
     "metadata": {},
     "output_type": "execute_result"
    }
   ],
   "source": [
    "type(nnp_wordlist)"
   ]
  },
  {
   "cell_type": "code",
   "execution_count": 11,
   "metadata": {},
   "outputs": [
    {
     "data": {
      "text/plain": [
       "252"
      ]
     },
     "execution_count": 11,
     "metadata": {},
     "output_type": "execute_result"
    }
   ],
   "source": [
    "len(nnp_wordlist)"
   ]
  },
  {
   "cell_type": "code",
   "execution_count": 12,
   "metadata": {},
   "outputs": [
    {
     "data": {
      "text/plain": [
       "55"
      ]
     },
     "execution_count": 12,
     "metadata": {},
     "output_type": "execute_result"
    }
   ],
   "source": [
    "nnp_wordlist.count('United')"
   ]
  },
  {
   "cell_type": "code",
   "execution_count": 13,
   "metadata": {},
   "outputs": [
    {
     "data": {
      "text/plain": [
       "40"
      ]
     },
     "execution_count": 13,
     "metadata": {},
     "output_type": "execute_result"
    }
   ],
   "source": [
    "nnp_wordlist_unique =list(set(nnp_wordlist))\n",
    "len(nnp_wordlist_unique)"
   ]
  },
  {
   "cell_type": "code",
   "execution_count": 14,
   "metadata": {},
   "outputs": [
    {
     "data": {
      "text/plain": [
       "['Act',\n",
       " 'America',\n",
       " 'Carolina',\n",
       " 'Commerce',\n",
       " 'Commission',\n",
       " 'Congress',\n",
       " 'Court',\n",
       " 'Day',\n",
       " 'December',\n",
       " 'Department',\n",
       " 'District',\n",
       " 'Hampshire',\n",
       " 'House',\n",
       " 'Jersey',\n",
       " 'Journal',\n",
       " 'Judge',\n",
       " 'Massachusetts',\n",
       " 'Member',\n",
       " 'Monday',\n",
       " 'National',\n",
       " 'Navy',\n",
       " 'New',\n",
       " 'Number',\n",
       " 'Party',\n",
       " 'President',\n",
       " 'Secretary',\n",
       " 'Senate',\n",
       " 'September',\n",
       " 'Service',\n",
       " 'South',\n",
       " 'Treasury',\n",
       " 'Trust',\n",
       " 'Union',\n",
       " 'United',\n",
       " 'V',\n",
       " 'Vice',\n",
       " 'Virginia',\n",
       " 'War',\n",
       " 'Washington',\n",
       " 'William']"
      ]
     },
     "execution_count": 14,
     "metadata": {},
     "output_type": "execute_result"
    }
   ],
   "source": [
    "nnp_wordlist_unique.sort()\n",
    "nnp_wordlist_unique"
   ]
  },
  {
   "cell_type": "code",
   "execution_count": 15,
   "metadata": {},
   "outputs": [
    {
     "name": "stdout",
     "output_type": "stream",
     "text": [
      "Act 1\n",
      "America 3\n",
      "Carolina 2\n",
      "Commerce 2\n",
      "Commission 1\n",
      "Congress 29\n",
      "Court 6\n",
      "Day 4\n",
      "December 1\n",
      "Department 1\n",
      "District 1\n",
      "Hampshire 1\n",
      "House 23\n",
      "Jersey 1\n",
      "Journal 4\n",
      "Judge 1\n",
      "Massachusetts 1\n",
      "Member 3\n",
      "Monday 1\n",
      "National 1\n",
      "Navy 2\n",
      "New 3\n",
      "Number 11\n",
      "Party 4\n",
      "President 34\n",
      "Secretary 1\n",
      "Senate 17\n",
      "September 1\n",
      "Service 6\n",
      "South 1\n",
      "Treasury 3\n",
      "Trust 4\n",
      "Union 6\n",
      "United 55\n",
      "V 1\n",
      "Vice 8\n",
      "Virginia 2\n",
      "War 4\n",
      "Washington 1\n",
      "William 1\n"
     ]
    }
   ],
   "source": [
    "for i in nnp_wordlist_unique:\n",
    "    a = nnp_wordlist.count(i)\n",
    "    print(i, a)\n",
    "    "
   ]
  },
  {
   "cell_type": "code",
   "execution_count": 16,
   "metadata": {},
   "outputs": [
    {
     "data": {
      "text/plain": [
       "<matplotlib.axes._subplots.AxesSubplot at 0x1f2f4023188>"
      ]
     },
     "execution_count": 16,
     "metadata": {},
     "output_type": "execute_result"
    },
    {
     "data": {
      "image/png": "[encoded data removed]",
      "text/plain": [
       "<Figure size 432x288 with 1 Axes>"
      ]
     },
     "metadata": {
      "needs_background": "light"
     },
     "output_type": "display_data"
    }
   ],
   "source": [
    "count = Counter(nnp_wordlist)\n",
    "df = pd.DataFrame.from_dict(count, orient='index')\n",
    "df.plot(kind='bar')"
   ]
  },
  {
   "cell_type": "markdown",
   "metadata": {},
   "source": [
    "Analyze the Sentiment and Subjectivity of the Text"
   ]
  },
  {
   "cell_type": "code",
   "execution_count": 17,
   "metadata": {},
   "outputs": [],
   "source": [
    "analysis = TextBlob(raw)"
   ]
  },
  {
   "cell_type": "code",
   "execution_count": 18,
   "metadata": {},
   "outputs": [
    {
     "data": {
      "text/plain": [
       "Sentiment(polarity=0.049686611671590206, subjectivity=0.3263901906391176)"
      ]
     },
     "execution_count": 18,
     "metadata": {},
     "output_type": "execute_result"
    }
   ],
   "source": [
    "analysis.sentiment"
   ]
  }
 ],
 "metadata": {
  "kernelspec": {
   "display_name": "Python 3",
   "language": "python",
   "name": "python3"
  },
  "language_info": {
   "codemirror_mode": {
    "name": "ipython",
    "version": 3
   },
   "file_extension": ".py",
   "mimetype": "text/x-python",
   "name": "python",
   "nbconvert_exporter": "python",
   "pygments_lexer": "ipython3",
   "version": "3.7.5"
  }
 },
 "nbformat": 4,
 "nbformat_minor": 2
}
